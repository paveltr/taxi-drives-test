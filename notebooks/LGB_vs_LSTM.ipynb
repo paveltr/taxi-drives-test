{
 "cells": [
  {
   "cell_type": "code",
   "execution_count": 24,
   "metadata": {},
   "outputs": [],
   "source": [
    "import pandas as pd\n",
    "import matplotlib.pyplot as plt\n",
    "import numpy as np\n",
    "from sklearn.metrics import mean_squared_error\n"
   ]
  },
  {
   "cell_type": "code",
   "execution_count": 25,
   "metadata": {},
   "outputs": [],
   "source": [
    "def haversine(lat1, lon1, lat2, lon2, to_radians=True, earth_radius=6371):\n",
    "    \"\"\"\n",
    "    slightly modified version: of http://stackoverflow.com/a/29546836/2901002\n",
    "\n",
    "    Calculate the great circle distance between two points\n",
    "    on the earth (specified in decimal degrees or in radians)\n",
    "\n",
    "    All (lat, lon) coordinates must have numeric dtypes and be of equal length.\n",
    "\n",
    "    \"\"\"\n",
    "    if to_radians:\n",
    "        lat1, lon1, lat2, lon2 = np.radians([lat1, lon1, lat2, lon2])\n",
    "\n",
    "    a = np.sin((lat2-lat1)/2.0)**2 + \\\n",
    "        np.cos(lat1) * np.cos(lat2) * np.sin((lon2-lon1)/2.0)**2\n",
    "\n",
    "    return earth_radius * 2 * np.arcsin(np.sqrt(a))\n"
   ]
  },
  {
   "cell_type": "code",
   "execution_count": 26,
   "metadata": {},
   "outputs": [
    {
     "data": {
      "text/plain": [
       "(16523, 8)"
      ]
     },
     "execution_count": 26,
     "metadata": {},
     "output_type": "execute_result"
    }
   ],
   "source": [
    "lgb = pd.read_csv(r'../predictions/lgb_predictions.csv')\n",
    "lgb.shape\n"
   ]
  },
  {
   "cell_type": "code",
   "execution_count": 27,
   "metadata": {},
   "outputs": [
    {
     "data": {
      "text/plain": [
       "(16100, 14)"
      ]
     },
     "execution_count": 27,
     "metadata": {},
     "output_type": "execute_result"
    }
   ],
   "source": [
    "lstm = pd.read_csv(r'../predictions/rnn_predictions.csv')\n",
    "lstm.shape\n"
   ]
  },
  {
   "cell_type": "code",
   "execution_count": 28,
   "metadata": {},
   "outputs": [
    {
     "data": {
      "text/plain": [
       "(16100, 14)"
      ]
     },
     "execution_count": 28,
     "metadata": {},
     "output_type": "execute_result"
    }
   ],
   "source": [
    "lstm2d = pd.read_csv(r'../predictions/2d_rnn_predictions.csv')\n",
    "lstm.shape\n"
   ]
  },
  {
   "cell_type": "code",
   "execution_count": 29,
   "metadata": {},
   "outputs": [],
   "source": [
    "lstm = pd.merge(lstm, lgb[['filename', 'trip_number', 'latitude_lgb_predicted',\n",
    "                           'longitude_lgb_predicted']], on=['filename', 'trip_number'], how='inner')\n",
    "lstm = pd.merge(lstm, lstm2d[['filename', 'trip_number', 'latitude_2d_rnn_predicted',\n",
    "                              'longitude_2d_rnn_predicted']], on=['filename', 'trip_number'], how='inner')\n"
   ]
  },
  {
   "cell_type": "markdown",
   "metadata": {},
   "source": [
    "# RMSE"
   ]
  },
  {
   "cell_type": "code",
   "execution_count": 30,
   "metadata": {},
   "outputs": [
    {
     "name": "stdout",
     "output_type": "stream",
     "text": [
      "Latitude: RMSE LSTM 0.0038, RMSE 2D LSTM 0.0028, RMSE LGB 0.0024\n"
     ]
    }
   ],
   "source": [
    "print('Latitude: RMSE LSTM {0:0.4f}, RMSE 2D LSTM {1:0.4f}, RMSE LGB {2:0.4f}'.format(mean_squared_error(lstm.latitude_true, lstm.latitude_rnn_predicted),\n",
    "                                                                                      mean_squared_error(lstm.latitude_true, lstm.latitude_2d_rnn_predicted),\n",
    "                                                                                      mean_squared_error(lstm.latitude_true, lstm.latitude_lgb_predicted)))\n"
   ]
  },
  {
   "cell_type": "code",
   "execution_count": 31,
   "metadata": {},
   "outputs": [
    {
     "name": "stdout",
     "output_type": "stream",
     "text": [
      "Longitude: RMSE LSTM 0.0009, RMSE 2D LSTM 0.0005, RMSE LGB 0.0006\n"
     ]
    }
   ],
   "source": [
    "print('Longitude: RMSE LSTM {0:0.4f}, RMSE 2D LSTM {1:0.4f}, RMSE LGB {2:0.4f}'.format(mean_squared_error(lstm.longitude_true, lstm.longitude_rnn_predicted),\n",
    "                                                                                       mean_squared_error(lstm.longitude_true, lstm.longitude_2d_rnn_predicted),\n",
    "                                                                                       mean_squared_error(lstm.longitude_true, lstm.longitude_lgb_predicted)))\n"
   ]
  },
  {
   "cell_type": "markdown",
   "metadata": {},
   "source": [
    "# Kilometers between predicted and actual pickup locations"
   ]
  },
  {
   "cell_type": "code",
   "execution_count": 32,
   "metadata": {},
   "outputs": [],
   "source": [
    "lstm['rnn_haversine_error'] = \\\n",
    "    haversine(lstm.latitude_rnn_predicted, lstm.longitude_rnn_predicted,\n",
    "              lstm.latitude_true, lstm.longitude_true)\n",
    "\n",
    "lstm['2d_rnn_haversine_error'] = \\\n",
    "    haversine(lstm.latitude_2d_rnn_predicted, lstm.longitude_2d_rnn_predicted,\n",
    "              lstm.latitude_true, lstm.longitude_true)"
   ]
  },
  {
   "cell_type": "code",
   "execution_count": 33,
   "metadata": {},
   "outputs": [],
   "source": [
    "lstm['lgb_haversine_error'] = \\\n",
    "    haversine(lstm.latitude_lgb_predicted, lstm.longitude_lgb_predicted,\n",
    "              lstm.latitude_true, lstm.longitude_true)\n"
   ]
  },
  {
   "cell_type": "code",
   "execution_count": 34,
   "metadata": {},
   "outputs": [
    {
     "data": {
      "text/plain": [
       "(5.057703493103932, 4.220327504412076, 4.042947215545546)"
      ]
     },
     "execution_count": 34,
     "metadata": {},
     "output_type": "execute_result"
    }
   ],
   "source": [
    "lstm['rnn_haversine_error'].mean(), lstm['2d_rnn_haversine_error'].mean(), lstm['lgb_haversine_error'].mean()\n"
   ]
  },
  {
   "cell_type": "code",
   "execution_count": 35,
   "metadata": {},
   "outputs": [
    {
     "data": {
      "image/png": "[encoded data removed]",
      "text/plain": [
       "<Figure size 864x648 with 1 Axes>"
      ]
     },
     "metadata": {
      "needs_background": "light"
     },
     "output_type": "display_data"
    }
   ],
   "source": [
    "plt.figure(figsize=(12, 9))\n",
    "ax = plt.subplot(111)\n",
    "ax.spines[\"top\"].set_visible(False)\n",
    "ax.spines[\"right\"].set_visible(False)\n",
    "ax.get_xaxis().tick_bottom()\n",
    "ax.get_yaxis().tick_left()\n",
    "\n",
    "plt.xlabel(\"time distance, km\")\n",
    "plt.ylabel(\"Count\")\n",
    "\n",
    "plt.hist(lstm['rnn_haversine_error'],\n",
    "         bins=100, label='LSTM Error Haversine', alpha=0.3)\n",
    "\n",
    "plt.hist(lstm['2d_rnn_haversine_error'],\n",
    "         bins=100, label='2D LSTM Error Haversine', alpha=0.3)\n",
    "\n",
    "plt.hist(lstm['lgb_haversine_error'],\n",
    "         bins=100, label='LGB Error Haversine', alpha=0.3)\n",
    "plt.title('Absolute Error, in km')\n",
    "plt.legend()\n",
    "plt.show()\n"
   ]
  }
 ],
 "metadata": {
  "interpreter": {
   "hash": "49cb93f377a7abe7414b7b0f21fb3017538004a126cf690fb524202736b7fb92"
  },
  "kernelspec": {
   "display_name": "Python 3.8.5 ('base')",
   "language": "python",
   "name": "python3"
  },
  "language_info": {
   "codemirror_mode": {
    "name": "ipython",
    "version": 3
   },
   "file_extension": ".py",
   "mimetype": "text/x-python",
   "name": "python",
   "nbconvert_exporter": "python",
   "pygments_lexer": "ipython3",
   "version": "3.8.5"
  },
  "orig_nbformat": 4
 },
 "nbformat": 4,
 "nbformat_minor": 2
}
