{
 "cells": [
  {
   "cell_type": "code",
   "execution_count": 1,
   "metadata": {},
   "outputs": [],
   "source": [
    "import pandas as pd\n",
    "from os import listdir\n",
    "from os.path import isfile, join\n",
    "from tqdm import tqdm\n",
    "import warnings \n",
    "import numpy as np\n",
    "import datetime \n",
    "import matplotlib.pyplot as plt\n",
    "import seaborn as sns\n",
    "\n",
    "warnings.filterwarnings('ignore')"
   ]
  },
  {
   "cell_type": "code",
   "execution_count": 43,
   "metadata": {},
   "outputs": [],
   "source": [
    "def haversine(lat1, lon1, lat2, lon2, to_radians=True, earth_radius=6371):\n",
    "    \"\"\"\n",
    "    slightly modified version: of http://stackoverflow.com/a/29546836/2901002\n",
    "\n",
    "    Calculate the great circle distance between two points\n",
    "    on the earth (specified in decimal degrees or in radians)\n",
    "\n",
    "    All (lat, lon) coordinates must have numeric dtypes and be of equal length.\n",
    "\n",
    "    \"\"\"\n",
    "    if to_radians:\n",
    "        lat1, lon1, lat2, lon2 = np.radians([lat1, lon1, lat2, lon2])\n",
    "\n",
    "    a = np.sin((lat2-lat1)/2.0)**2 + \\\n",
    "        np.cos(lat1) * np.cos(lat2) * np.sin((lon2-lon1)/2.0)**2\n",
    "\n",
    "    return earth_radius * 2 * np.arcsin(np.sqrt(a))\n",
    "\n",
    "from sklearn.preprocessing import MinMaxScaler\n",
    "\n",
    "\n",
    "def combine_features(arrays, features=True):\n",
    "    if features:\n",
    "        x, y, z = arrays[0].shape[0], arrays[0].shape[1], len(arrays)\n",
    "    else:\n",
    "        x, y, z = arrays[0].shape[0], 1, len(arrays)\n",
    "    reshaped = [a.reshape(x*y, 1) for a in arrays]\n",
    "\n",
    "    if y == 1:\n",
    "        return np.hstack(tuple(reshaped)).reshape(x, z)\n",
    "    else:\n",
    "        return np.hstack(tuple(reshaped)).reshape(x, y, z)\n",
    "\n",
    "def scale_data(tr, eval, tst, scaler=None):\n",
    "    if scaler is not None:\n",
    "        tr_pr = scaler.fit_transform(tr)\n",
    "        eval_pr = scaler.transform(eval)\n",
    "        tst_pr = scaler.transform(tst)\n",
    "\n",
    "        return tr_pr, eval_pr, tst_pr, scaler\n",
    "    else:\n",
    "        return tr, eval, tst, None\n",
    "\n",
    "def prepare_features(data, features, scaler=MinMaxScaler(feature_range=(-1, 1))):\n",
    "    trains = []\n",
    "    evals = []\n",
    "    tests = []\n",
    "    scalers = []\n",
    "    for feature in features:\n",
    "        tr, eval, tst, scl = scale_data(data[0][feature].fillna(0).values, \n",
    "                                        data[1][feature].fillna(0).values,\n",
    "                                        data[2][feature].fillna(0).values,\n",
    "                                        scaler=scaler)\n",
    "        trains.append(tr)\n",
    "        evals.append(eval)\n",
    "        tests.append(tst)\n",
    "        scalers.append(scl)\n",
    "\n",
    "    tr = combine_features(trains)\n",
    "    eval = combine_features(evals)\n",
    "    tst = combine_features(tests)\n",
    "\n",
    "    return tr, eval, tst, scalers\n",
    "\n",
    "def generate_cyclical_features(df, col_name, period, start_num=0):\n",
    "    kwargs = {\n",
    "        f'sin_{col_name}' : lambda x: np.sin(2*np.pi*(df[col_name]-start_num)/period),\n",
    "        f'cos_{col_name}' : lambda x: np.cos(2*np.pi*(df[col_name]-start_num)/period)    \n",
    "             }\n",
    "    return df.assign(**kwargs).drop(columns=[col_name])"
   ]
  },
  {
   "cell_type": "markdown",
   "metadata": {},
   "source": [
    "# Data"
   ]
  },
  {
   "cell_type": "code",
   "execution_count": 3,
   "metadata": {},
   "outputs": [],
   "source": [
    "dataPath = r'../data/cabspottingdata'\n",
    "fileNames = [f for f in listdir(dataPath) if isfile(join(dataPath, f)) and 'txt' in f]"
   ]
  },
  {
   "cell_type": "code",
   "execution_count": 4,
   "metadata": {},
   "outputs": [
    {
     "name": "stderr",
     "output_type": "stream",
     "text": [
      "100%|██████████| 537/537 [01:38<00:00,  5.48it/s]\n"
     ]
    }
   ],
   "source": [
    "df = pd.DataFrame({'latitude':[], \n",
    "                   'longitude':[], \n",
    "                   'occupancy':[], \n",
    "                   'time':[],\n",
    "                   'filename':[]})\n",
    "\n",
    "for fileName in tqdm(fileNames):\n",
    "    chunk = pd.read_csv(join(dataPath, fileName), sep=' ', header=None)\n",
    "    chunk['filename'] = fileName\n",
    "    chunk.columns = df.columns\n",
    "    df = df.append(chunk, ignore_index=True)"
   ]
  },
  {
   "cell_type": "code",
   "execution_count": 5,
   "metadata": {},
   "outputs": [],
   "source": [
    "df.sort_values(by=['filename', 'time'], inplace=True)"
   ]
  },
  {
   "cell_type": "code",
   "execution_count": 6,
   "metadata": {},
   "outputs": [],
   "source": [
    "df['changed_trip_status'] = ((df.occupancy != df.occupancy.shift(1)) & \n",
    "                              df.occupancy.shift(1).notnull())*1\n",
    "df['trip_number'] = df.groupby(['filename'])['changed_trip_status'].cumsum()\n",
    "\n",
    "df['trip_distance'] = \\\n",
    "    haversine(df.latitude, df.longitude,\n",
    "              df.groupby('filename')['latitude'].shift(1), \n",
    "              df.groupby('filename')['longitude'].shift(1))\n",
    "\n",
    "df['trip_distance'] = df.groupby(['filename', 'trip_number'])['trip_distance'].cumsum().fillna(0)"
   ]
  },
  {
   "cell_type": "code",
   "execution_count": 7,
   "metadata": {},
   "outputs": [],
   "source": [
    "tripData = \\\n",
    "  df.groupby(['filename', 'trip_number', 'occupancy'])\\\n",
    "    .agg({'latitude' : ['min', 'max'],\n",
    "           'longitude' : ['min', 'max'],\n",
    "           'time' : ['min', 'max'],\n",
    "           'trip_distance' : 'max'\n",
    "          })\\\n",
    "    .reset_index()\n",
    "\n",
    "tripData.columns = ['filename', 'trip_number', 'occupancy', 'latitude_start',\n",
    "                    'latitude_end', 'longitude_start', 'longitude_end', \n",
    "                    'start_time', 'end_time', 'trip_distance']\n",
    "\n",
    "tripData['trip_dutation_seconds'] = tripData['end_time'] - tripData['start_time']\n",
    "tripData = tripData[(tripData.trip_distance <= 30) & \n",
    "                    (tripData.trip_dutation_seconds <= 3600) & \n",
    "                    (tripData.occupancy == 1)]"
   ]
  },
  {
   "cell_type": "code",
   "execution_count": 8,
   "metadata": {},
   "outputs": [],
   "source": [
    "n_timesteps = 32"
   ]
  },
  {
   "cell_type": "code",
   "execution_count": 9,
   "metadata": {},
   "outputs": [
    {
     "name": "stderr",
     "output_type": "stream",
     "text": [
      "100%|██████████| 33/33 [00:04<00:00,  6.90it/s]\n",
      "100%|██████████| 32/32 [00:01<00:00, 31.45it/s] \n"
     ]
    }
   ],
   "source": [
    "lat_cols = []\n",
    "lon_cols = []\n",
    "for i in tqdm(range(0, n_timesteps+1)):\n",
    "    tripData[f'latitude_lag_{i}'] = tripData.groupby('filename')['latitude_end'].shift(i)\n",
    "    tripData[f'longitude_lag_{i}'] = tripData.groupby('filename')['longitude_end'].shift(i)\n",
    "    if i <= 31:\n",
    "        lat_cols.append(f'latitude_lag_{i}')\n",
    "        lon_cols.append(f'longitude_lag_{i}')\n",
    "\n",
    "lat_delta_cols = []\n",
    "lon_delta_cols = []\n",
    "\n",
    "for i in tqdm(range(0, n_timesteps)):\n",
    "    tripData[f'latitude_delta_lag_{i}'] = tripData[f'latitude_lag_{i}'] - \\\n",
    "                                    tripData[f'latitude_lag_{i+1}']\n",
    "    tripData[f'longitude_delta_lag_{i}'] = tripData[f'longitude_lag_{i}'] - \\\n",
    "                                    tripData[f'longitude_lag_{i+1}']\n",
    "\n",
    "    lat_delta_cols.append(f'latitude_delta_lag_{i}')\n",
    "    lon_delta_cols.append(f'longitude_delta_lag_{i}')\n"
   ]
  },
  {
   "cell_type": "code",
   "execution_count": 10,
   "metadata": {},
   "outputs": [
    {
     "data": {
      "text/plain": [
       "0.962709234736244"
      ]
     },
     "execution_count": 10,
     "metadata": {},
     "output_type": "execute_result"
    }
   ],
   "source": [
    "tripData[tripData.longitude_lag_32.notnull()].shape[0] / tripData.shape[0]"
   ]
  },
  {
   "cell_type": "code",
   "execution_count": 11,
   "metadata": {},
   "outputs": [],
   "source": [
    "tripData['latitude_change'] = \\\n",
    "    tripData.groupby('filename')['latitude_start'].shift(-1) - \\\n",
    "        tripData['latitude_end']"
   ]
  },
  {
   "cell_type": "code",
   "execution_count": 12,
   "metadata": {},
   "outputs": [],
   "source": [
    "tripData['longitude_change'] = \\\n",
    "    tripData.groupby('filename')['longitude_start'].shift(-1) - \\\n",
    "        tripData['longitude_end']"
   ]
  },
  {
   "cell_type": "code",
   "execution_count": 13,
   "metadata": {},
   "outputs": [],
   "source": [
    "tripData['dt_start'] = pd.to_datetime(tripData['start_time'],unit='s')\n",
    "tripData['dt_end'] = pd.to_datetime(tripData['end_time'],unit='s')"
   ]
  },
  {
   "cell_type": "code",
   "execution_count": 14,
   "metadata": {},
   "outputs": [],
   "source": [
    "tripData['hour'] = tripData['dt_start'].dt.hour\n",
    "tripData['day'] = tripData['dt_start'].dt.weekday"
   ]
  },
  {
   "cell_type": "code",
   "execution_count": 15,
   "metadata": {},
   "outputs": [],
   "source": [
    "tripData = generate_cyclical_features(tripData, 'hour', 24, 0)\n",
    "tripData = generate_cyclical_features(tripData, 'day', 7, 0)"
   ]
  },
  {
   "cell_type": "code",
   "execution_count": 16,
   "metadata": {},
   "outputs": [
    {
     "data": {
      "text/html": [
       "<div>\n",
       "<style scoped>\n",
       "    .dataframe tbody tr th:only-of-type {\n",
       "        vertical-align: middle;\n",
       "    }\n",
       "\n",
       "    .dataframe tbody tr th {\n",
       "        vertical-align: top;\n",
       "    }\n",
       "\n",
       "    .dataframe thead th {\n",
       "        text-align: right;\n",
       "    }\n",
       "</style>\n",
       "<table border=\"1\" class=\"dataframe\">\n",
       "  <thead>\n",
       "    <tr style=\"text-align: right;\">\n",
       "      <th></th>\n",
       "      <th>sin_hour</th>\n",
       "      <th>cos_hour</th>\n",
       "      <th>sin_day</th>\n",
       "      <th>cos_day</th>\n",
       "    </tr>\n",
       "  </thead>\n",
       "  <tbody>\n",
       "    <tr>\n",
       "      <th>1</th>\n",
       "      <td>-0.500000</td>\n",
       "      <td>-0.866025</td>\n",
       "      <td>-0.974928</td>\n",
       "      <td>-0.222521</td>\n",
       "    </tr>\n",
       "    <tr>\n",
       "      <th>3</th>\n",
       "      <td>-0.707107</td>\n",
       "      <td>-0.707107</td>\n",
       "      <td>-0.974928</td>\n",
       "      <td>-0.222521</td>\n",
       "    </tr>\n",
       "    <tr>\n",
       "      <th>5</th>\n",
       "      <td>-0.707107</td>\n",
       "      <td>-0.707107</td>\n",
       "      <td>-0.974928</td>\n",
       "      <td>-0.222521</td>\n",
       "    </tr>\n",
       "    <tr>\n",
       "      <th>7</th>\n",
       "      <td>-0.707107</td>\n",
       "      <td>-0.707107</td>\n",
       "      <td>-0.974928</td>\n",
       "      <td>-0.222521</td>\n",
       "    </tr>\n",
       "    <tr>\n",
       "      <th>9</th>\n",
       "      <td>-0.866025</td>\n",
       "      <td>-0.500000</td>\n",
       "      <td>-0.974928</td>\n",
       "      <td>-0.222521</td>\n",
       "    </tr>\n",
       "  </tbody>\n",
       "</table>\n",
       "</div>"
      ],
      "text/plain": [
       "   sin_hour  cos_hour   sin_day   cos_day\n",
       "1 -0.500000 -0.866025 -0.974928 -0.222521\n",
       "3 -0.707107 -0.707107 -0.974928 -0.222521\n",
       "5 -0.707107 -0.707107 -0.974928 -0.222521\n",
       "7 -0.707107 -0.707107 -0.974928 -0.222521\n",
       "9 -0.866025 -0.500000 -0.974928 -0.222521"
      ]
     },
     "execution_count": 16,
     "metadata": {},
     "output_type": "execute_result"
    }
   ],
   "source": [
    "tripData[['sin_hour', 'cos_hour', 'sin_day', 'cos_day']].head()"
   ]
  },
  {
   "cell_type": "code",
   "execution_count": 17,
   "metadata": {},
   "outputs": [
    {
     "name": "stderr",
     "output_type": "stream",
     "text": [
      "100%|██████████| 32/32 [00:09<00:00,  3.38it/s]\n"
     ]
    }
   ],
   "source": [
    "sin_hour_cols, cos_hour_cols = [], []\n",
    "sin_day_cols, cos_day_cols = [], []\n",
    "for i in tqdm(range(0, n_timesteps)):\n",
    "    tripData[f'sin_hour_lag_{i}'] = tripData.groupby('filename')['sin_hour'].shift(i)\n",
    "    tripData[f'cos_hour_lag_{i}'] = tripData.groupby('filename')['cos_hour'].shift(i)\n",
    "    tripData[f'sin_day_lag_{i}'] = tripData.groupby('filename')['sin_day'].shift(i)\n",
    "    tripData[f'cos_day_lag_{i}'] = tripData.groupby('filename')['cos_day'].shift(i)\n",
    "    sin_hour_cols.append(f'sin_hour_lag_{i}')\n",
    "    cos_hour_cols.append(f'cos_hour_lag_{i}')\n",
    "    sin_day_cols.append(f'sin_day_lag_{i}')\n",
    "    cos_day_cols.append(f'cos_day_lag_{i}')"
   ]
  },
  {
   "cell_type": "code",
   "execution_count": 18,
   "metadata": {},
   "outputs": [],
   "source": [
    "tripData = tripData[tripData.latitude_change.notnull() & \n",
    "                    tripData.longitude_change.notnull() & \n",
    "                    tripData.longitude_lag_32.notnull()]"
   ]
  },
  {
   "cell_type": "code",
   "execution_count": 19,
   "metadata": {},
   "outputs": [
    {
     "data": {
      "text/html": [
       "<div>\n",
       "<style scoped>\n",
       "    .dataframe tbody tr th:only-of-type {\n",
       "        vertical-align: middle;\n",
       "    }\n",
       "\n",
       "    .dataframe tbody tr th {\n",
       "        vertical-align: top;\n",
       "    }\n",
       "\n",
       "    .dataframe thead th {\n",
       "        text-align: right;\n",
       "    }\n",
       "</style>\n",
       "<table border=\"1\" class=\"dataframe\">\n",
       "  <thead>\n",
       "    <tr style=\"text-align: right;\">\n",
       "      <th></th>\n",
       "      <th>filename</th>\n",
       "      <th>trip_number</th>\n",
       "      <th>occupancy</th>\n",
       "      <th>latitude_start</th>\n",
       "      <th>latitude_end</th>\n",
       "      <th>longitude_start</th>\n",
       "      <th>longitude_end</th>\n",
       "      <th>start_time</th>\n",
       "      <th>end_time</th>\n",
       "      <th>trip_distance</th>\n",
       "      <th>...</th>\n",
       "      <th>sin_day_lag_29</th>\n",
       "      <th>cos_day_lag_29</th>\n",
       "      <th>sin_hour_lag_30</th>\n",
       "      <th>cos_hour_lag_30</th>\n",
       "      <th>sin_day_lag_30</th>\n",
       "      <th>cos_day_lag_30</th>\n",
       "      <th>sin_hour_lag_31</th>\n",
       "      <th>cos_hour_lag_31</th>\n",
       "      <th>sin_day_lag_31</th>\n",
       "      <th>cos_day_lag_31</th>\n",
       "    </tr>\n",
       "  </thead>\n",
       "  <tbody>\n",
       "    <tr>\n",
       "      <th>65</th>\n",
       "      <td>new_abboip.txt</td>\n",
       "      <td>65</td>\n",
       "      <td>1.0</td>\n",
       "      <td>37.76746</td>\n",
       "      <td>37.77133</td>\n",
       "      <td>-122.43869</td>\n",
       "      <td>-122.42917</td>\n",
       "      <td>1.211080e+09</td>\n",
       "      <td>1.211081e+09</td>\n",
       "      <td>1.120437</td>\n",
       "      <td>...</td>\n",
       "      <td>-0.974928</td>\n",
       "      <td>-0.222521</td>\n",
       "      <td>-0.707107</td>\n",
       "      <td>-0.707107</td>\n",
       "      <td>-0.974928</td>\n",
       "      <td>-0.222521</td>\n",
       "      <td>-0.707107</td>\n",
       "      <td>-0.707107</td>\n",
       "      <td>-0.974928</td>\n",
       "      <td>-0.222521</td>\n",
       "    </tr>\n",
       "    <tr>\n",
       "      <th>67</th>\n",
       "      <td>new_abboip.txt</td>\n",
       "      <td>67</td>\n",
       "      <td>1.0</td>\n",
       "      <td>37.74320</td>\n",
       "      <td>37.76257</td>\n",
       "      <td>-122.43492</td>\n",
       "      <td>-122.43124</td>\n",
       "      <td>1.211081e+09</td>\n",
       "      <td>1.211081e+09</td>\n",
       "      <td>2.477214</td>\n",
       "      <td>...</td>\n",
       "      <td>-0.974928</td>\n",
       "      <td>-0.222521</td>\n",
       "      <td>-0.707107</td>\n",
       "      <td>-0.707107</td>\n",
       "      <td>-0.974928</td>\n",
       "      <td>-0.222521</td>\n",
       "      <td>-0.707107</td>\n",
       "      <td>-0.707107</td>\n",
       "      <td>-0.974928</td>\n",
       "      <td>-0.222521</td>\n",
       "    </tr>\n",
       "    <tr>\n",
       "      <th>69</th>\n",
       "      <td>new_abboip.txt</td>\n",
       "      <td>69</td>\n",
       "      <td>1.0</td>\n",
       "      <td>37.75932</td>\n",
       "      <td>37.78118</td>\n",
       "      <td>-122.43496</td>\n",
       "      <td>-122.40131</td>\n",
       "      <td>1.211082e+09</td>\n",
       "      <td>1.211083e+09</td>\n",
       "      <td>4.598116</td>\n",
       "      <td>...</td>\n",
       "      <td>-0.974928</td>\n",
       "      <td>-0.222521</td>\n",
       "      <td>-0.866025</td>\n",
       "      <td>-0.500000</td>\n",
       "      <td>-0.974928</td>\n",
       "      <td>-0.222521</td>\n",
       "      <td>-0.707107</td>\n",
       "      <td>-0.707107</td>\n",
       "      <td>-0.974928</td>\n",
       "      <td>-0.222521</td>\n",
       "    </tr>\n",
       "    <tr>\n",
       "      <th>71</th>\n",
       "      <td>new_abboip.txt</td>\n",
       "      <td>71</td>\n",
       "      <td>1.0</td>\n",
       "      <td>37.76473</td>\n",
       "      <td>37.77349</td>\n",
       "      <td>-122.42104</td>\n",
       "      <td>-122.40173</td>\n",
       "      <td>1.211083e+09</td>\n",
       "      <td>1.211083e+09</td>\n",
       "      <td>2.520302</td>\n",
       "      <td>...</td>\n",
       "      <td>-0.974928</td>\n",
       "      <td>-0.222521</td>\n",
       "      <td>-0.866025</td>\n",
       "      <td>-0.500000</td>\n",
       "      <td>-0.974928</td>\n",
       "      <td>-0.222521</td>\n",
       "      <td>-0.866025</td>\n",
       "      <td>-0.500000</td>\n",
       "      <td>-0.974928</td>\n",
       "      <td>-0.222521</td>\n",
       "    </tr>\n",
       "    <tr>\n",
       "      <th>73</th>\n",
       "      <td>new_abboip.txt</td>\n",
       "      <td>73</td>\n",
       "      <td>1.0</td>\n",
       "      <td>37.77333</td>\n",
       "      <td>37.79041</td>\n",
       "      <td>-122.42379</td>\n",
       "      <td>-122.40521</td>\n",
       "      <td>1.211084e+09</td>\n",
       "      <td>1.211084e+09</td>\n",
       "      <td>3.450693</td>\n",
       "      <td>...</td>\n",
       "      <td>-0.974928</td>\n",
       "      <td>-0.222521</td>\n",
       "      <td>-0.965926</td>\n",
       "      <td>-0.258819</td>\n",
       "      <td>-0.974928</td>\n",
       "      <td>-0.222521</td>\n",
       "      <td>-0.866025</td>\n",
       "      <td>-0.500000</td>\n",
       "      <td>-0.974928</td>\n",
       "      <td>-0.222521</td>\n",
       "    </tr>\n",
       "  </tbody>\n",
       "</table>\n",
       "<p>5 rows × 277 columns</p>\n",
       "</div>"
      ],
      "text/plain": [
       "          filename  trip_number  occupancy  latitude_start  latitude_end  \\\n",
       "65  new_abboip.txt           65        1.0        37.76746      37.77133   \n",
       "67  new_abboip.txt           67        1.0        37.74320      37.76257   \n",
       "69  new_abboip.txt           69        1.0        37.75932      37.78118   \n",
       "71  new_abboip.txt           71        1.0        37.76473      37.77349   \n",
       "73  new_abboip.txt           73        1.0        37.77333      37.79041   \n",
       "\n",
       "    longitude_start  longitude_end    start_time      end_time  trip_distance  \\\n",
       "65       -122.43869     -122.42917  1.211080e+09  1.211081e+09       1.120437   \n",
       "67       -122.43492     -122.43124  1.211081e+09  1.211081e+09       2.477214   \n",
       "69       -122.43496     -122.40131  1.211082e+09  1.211083e+09       4.598116   \n",
       "71       -122.42104     -122.40173  1.211083e+09  1.211083e+09       2.520302   \n",
       "73       -122.42379     -122.40521  1.211084e+09  1.211084e+09       3.450693   \n",
       "\n",
       "    ...  sin_day_lag_29  cos_day_lag_29  sin_hour_lag_30  cos_hour_lag_30  \\\n",
       "65  ...       -0.974928       -0.222521        -0.707107        -0.707107   \n",
       "67  ...       -0.974928       -0.222521        -0.707107        -0.707107   \n",
       "69  ...       -0.974928       -0.222521        -0.866025        -0.500000   \n",
       "71  ...       -0.974928       -0.222521        -0.866025        -0.500000   \n",
       "73  ...       -0.974928       -0.222521        -0.965926        -0.258819   \n",
       "\n",
       "    sin_day_lag_30  cos_day_lag_30  sin_hour_lag_31  cos_hour_lag_31  \\\n",
       "65       -0.974928       -0.222521        -0.707107        -0.707107   \n",
       "67       -0.974928       -0.222521        -0.707107        -0.707107   \n",
       "69       -0.974928       -0.222521        -0.707107        -0.707107   \n",
       "71       -0.974928       -0.222521        -0.866025        -0.500000   \n",
       "73       -0.974928       -0.222521        -0.866025        -0.500000   \n",
       "\n",
       "    sin_day_lag_31  cos_day_lag_31  \n",
       "65       -0.974928       -0.222521  \n",
       "67       -0.974928       -0.222521  \n",
       "69       -0.974928       -0.222521  \n",
       "71       -0.974928       -0.222521  \n",
       "73       -0.974928       -0.222521  \n",
       "\n",
       "[5 rows x 277 columns]"
      ]
     },
     "execution_count": 19,
     "metadata": {},
     "output_type": "execute_result"
    }
   ],
   "source": [
    "tripData.head()"
   ]
  },
  {
   "cell_type": "code",
   "execution_count": 20,
   "metadata": {},
   "outputs": [
    {
     "data": {
      "image/png": "[encoded data removed]",
      "text/plain": [
       "<Figure size 1080x576 with 2 Axes>"
      ]
     },
     "metadata": {},
     "output_type": "display_data"
    }
   ],
   "source": [
    "sns.set(style=\"white\", palette=\"muted\", color_codes=True)\n",
    "f, axes = plt.subplots(1,2,figsize=(15, 8), sharex=False, sharey = False)#\n",
    "sns.despine(left=True)\n",
    "sns.distplot(tripData['latitude_change'].values, \n",
    "             label = 'Latitude Change',color=\"m\",bins = 100, ax=axes[0])\n",
    "sns.distplot(tripData['longitude_change'].values, \n",
    "             label = 'Longitude Change',color=\"g\",bins =100, ax=axes[1])\n",
    "\n",
    "plt.setp(axes, yticks=[])\n",
    "plt.tight_layout()\n",
    "axes[0].legend(loc='lower left')\n",
    "axes[1].legend(loc='lower left')\n",
    "\n",
    "axes[0].set_xlim([-0.5, 0.5])\n",
    "axes[1].set_xlim([-0.5, 0.5])\n",
    "\n",
    "plt.suptitle('Trips - Latitude and longitude Change')\n",
    "plt.show()"
   ]
  },
  {
   "cell_type": "markdown",
   "metadata": {},
   "source": [
    "# NN"
   ]
  },
  {
   "cell_type": "markdown",
   "metadata": {},
   "source": [
    "### Data Preparation"
   ]
  },
  {
   "cell_type": "code",
   "execution_count": 21,
   "metadata": {},
   "outputs": [],
   "source": [
    "targets = ['latitude_change', 'longitude_change']\n",
    "\n",
    "features = [lat_cols, lon_cols, lat_delta_cols, lon_delta_cols,\n",
    "            sin_hour_cols, cos_hour_cols, sin_day_cols, cos_day_cols\n",
    "            ]"
   ]
  },
  {
   "cell_type": "code",
   "execution_count": 22,
   "metadata": {},
   "outputs": [],
   "source": [
    "for f in features:\n",
    "    assert len(f) == n_timesteps"
   ]
  },
  {
   "cell_type": "code",
   "execution_count": 23,
   "metadata": {},
   "outputs": [],
   "source": [
    "trainData = tripData[(tripData.dt_start.dt.date < datetime.date(2008, 6, 6)) \n",
    "                      # & tripData[targets[0]].between(-0.1, 0.1)\n",
    "                    ].sample(frac=1, random_state=0).reset_index()\n",
    "\n",
    "evalData = tripData[ (tripData.dt_start.dt.date.between(datetime.date(2008, 6, 6),\n",
    "                                                        datetime.date(2008, 6, 8)\n",
    "                                                       ))\n",
    "                    ].reset_index()\n",
    "\n",
    "testData = tripData[(tripData.dt_start.dt.date > datetime.date(2008, 6, 8))\n",
    "                    ].reset_index()"
   ]
  },
  {
   "cell_type": "code",
   "execution_count": 24,
   "metadata": {},
   "outputs": [],
   "source": [
    "data = (trainData, evalData, testData)"
   ]
  },
  {
   "cell_type": "code",
   "execution_count": 25,
   "metadata": {},
   "outputs": [
    {
     "data": {
      "text/plain": [
       "((356437, 278), (67486, 278), (16100, 278))"
      ]
     },
     "execution_count": 25,
     "metadata": {},
     "output_type": "execute_result"
    }
   ],
   "source": [
    "trainData.shape, evalData.shape, testData.shape"
   ]
  },
  {
   "cell_type": "code",
   "execution_count": 26,
   "metadata": {},
   "outputs": [],
   "source": [
    "train_data, eval_data, test_data, scalers = prepare_features(data, features)"
   ]
  },
  {
   "cell_type": "code",
   "execution_count": 27,
   "metadata": {},
   "outputs": [
    {
     "data": {
      "text/plain": [
       "(356437, 32, 8)"
      ]
     },
     "execution_count": 27,
     "metadata": {},
     "output_type": "execute_result"
    }
   ],
   "source": [
    "train_data.shape"
   ]
  },
  {
   "cell_type": "code",
   "execution_count": 28,
   "metadata": {},
   "outputs": [
    {
     "data": {
      "text/plain": [
       "array([[ 3.70854361e-01, -5.25332132e-01, -4.42977504e-02,\n",
       "        -1.03487590e-01,  2.58819045e-01,  9.65925826e-01,\n",
       "         8.01937736e-01,  6.03875472e-01],\n",
       "       [ 4.26854716e-01, -5.00000000e-01, -1.99774168e-03,\n",
       "        -1.00933748e-01,  0.00000000e+00,  1.00000000e+00,\n",
       "         8.01937736e-01,  6.03875472e-01],\n",
       "       [ 4.25197200e-01, -4.78871125e-01, -1.48744897e-02,\n",
       "        -1.05516982e-01,  0.00000000e+00,  1.00000000e+00,\n",
       "         8.01937736e-01,  6.03875472e-01],\n",
       "       [ 4.41091593e-01, -4.50198904e-01,  5.36350213e-02,\n",
       "        -4.64821972e-02,  0.00000000e+00,  1.00000000e+00,\n",
       "         8.01937736e-01,  6.03875472e-01],\n",
       "       [ 3.63602729e-01, -5.18689484e-01,  1.36584730e-02,\n",
       "        -3.20256296e-02, -7.07106781e-01,  7.07106781e-01,\n",
       "         0.00000000e+00,  1.00000000e+00],\n",
       "       [ 3.40604697e-01, -6.10973504e-01, -3.52427690e-02,\n",
       "        -1.42775707e-01, -7.07106781e-01,  7.07106781e-01,\n",
       "         0.00000000e+00,  1.00000000e+00],\n",
       "       [ 3.84262479e-01, -5.20978759e-01,  2.72300877e-02,\n",
       "        -4.38371470e-02, -8.66025404e-01,  5.00000000e-01,\n",
       "         0.00000000e+00,  1.00000000e+00],\n",
       "       [ 3.42765388e-01, -5.93822713e-01, -7.47850256e-02,\n",
       "        -1.25354859e-01, -8.66025404e-01,  5.00000000e-01,\n",
       "         0.00000000e+00,  1.00000000e+00],\n",
       "       [ 4.40322032e-01, -5.32500188e-01,  2.47329106e-02,\n",
       "        -1.32742757e-01, -9.65925826e-01,  2.58819045e-01,\n",
       "         0.00000000e+00,  1.00000000e+00],\n",
       "       [ 4.02228767e-01, -4.59018239e-01,  3.75879441e-02,\n",
       "         2.11490007e-02, -9.65925826e-01,  2.58819045e-01,\n",
       "         0.00000000e+00,  1.00000000e+00],\n",
       "       [ 3.46613192e-01, -6.38820086e-01, -2.45809085e-02,\n",
       "        -1.57551504e-01, -1.00000000e+00, -1.83697020e-16,\n",
       "         0.00000000e+00,  1.00000000e+00],\n",
       "       [ 3.75738113e-01, -5.24506493e-01,  9.20698341e-03,\n",
       "        -5.11794416e-02, -9.65925826e-01, -2.58819045e-01,\n",
       "         0.00000000e+00,  1.00000000e+00],\n",
       "       [ 3.58807773e-01, -5.85266081e-01,  1.51567793e-02,\n",
       "        -1.11696366e-01, -9.65925826e-01, -2.58819045e-01,\n",
       "         0.00000000e+00,  1.00000000e+00],\n",
       "       [ 3.33767445e-01, -5.46423478e-01, -3.08347086e-02,\n",
       "        -3.20256296e-02, -9.65925826e-01, -2.58819045e-01,\n",
       "         0.00000000e+00,  1.00000000e+00],\n",
       "       [ 3.71416732e-01, -6.38707498e-01,  2.82289586e-04,\n",
       "        -9.99076513e-02, -9.65925826e-01, -2.58819045e-01,\n",
       "         0.00000000e+00,  1.00000000e+00],\n",
       "       [ 3.66651374e-01, -6.19267432e-01, -3.43090420e-02,\n",
       "        -1.47222127e-01, -9.65925826e-01, -2.58819045e-01,\n",
       "         0.00000000e+00,  1.00000000e+00],\n",
       "       [ 4.09036421e-01, -5.21954515e-01,  2.26483106e-02,\n",
       "        -6.27629374e-02, -8.66025404e-01, -5.00000000e-01,\n",
       "         0.00000000e+00,  1.00000000e+00],\n",
       "       [ 3.73784612e-01, -5.63649328e-01,  1.94562668e-02,\n",
       "        -3.31885396e-02, -8.66025404e-01, -5.00000000e-01,\n",
       "         0.00000000e+00,  1.00000000e+00],\n",
       "       [ 3.42883782e-01, -6.54019365e-01, -6.82923652e-02,\n",
       "        -9.69889752e-02, -8.66025404e-01, -5.00000000e-01,\n",
       "         0.00000000e+00,  1.00000000e+00],\n",
       "       [ 4.31590475e-01, -6.39383022e-01,  6.66637714e-03,\n",
       "        -1.27429855e-01, -7.07106781e-01, -7.07106781e-01,\n",
       "         0.00000000e+00,  1.00000000e+00],\n",
       "       [ 4.18123159e-01, -5.74645350e-01,  5.84339442e-02,\n",
       "        -9.18128855e-02, -7.07106781e-01, -7.07106781e-01,\n",
       "         0.00000000e+00,  1.00000000e+00],\n",
       "       [ 3.34093028e-01, -5.68528109e-01, -3.53079128e-02,\n",
       "        -1.27042218e-01, -5.00000000e-01, -8.66025404e-01,\n",
       "         0.00000000e+00,  1.00000000e+00],\n",
       "       [ 3.77839606e-01, -5.04428432e-01, -1.10527230e-02,\n",
       "        -2.39080617e-02, -5.00000000e-01, -8.66025404e-01,\n",
       "         0.00000000e+00,  1.00000000e+00],\n",
       "       [ 3.88524663e-01, -6.10072806e-01,  3.83262399e-02,\n",
       "        -8.04574113e-02, -2.58819045e-01, -9.65925826e-01,\n",
       "         0.00000000e+00,  1.00000000e+00],\n",
       "       [ 3.31902739e-01, -6.22645050e-01, -1.52002085e-02,\n",
       "        -1.30439740e-01,  8.66025404e-01, -5.00000000e-01,\n",
       "         0.00000000e+00,  1.00000000e+00],\n",
       "       [ 3.48241109e-01, -5.52953539e-01, -3.85868149e-02,\n",
       "        -1.38739725e-01,  8.66025404e-01, -5.00000000e-01,\n",
       "         0.00000000e+00,  1.00000000e+00],\n",
       "       [ 3.96457060e-01, -4.69601441e-01,  7.61530444e-02,\n",
       "        -2.89701406e-02,  9.65925826e-01, -2.58819045e-01,\n",
       "         0.00000000e+00,  1.00000000e+00],\n",
       "       [ 2.88274556e-01, -5.66914359e-01, -2.35603231e-02,\n",
       "        -1.54404807e-01,  9.65925826e-01, -2.58819045e-01,\n",
       "         0.00000000e+00,  1.00000000e+00],\n",
       "       [ 3.16008347e-01, -4.57779779e-01, -4.19308608e-02,\n",
       "        -2.05561446e-02,  9.65925826e-01, -2.58819045e-01,\n",
       "         0.00000000e+00,  1.00000000e+00],\n",
       "       [ 3.68782466e-01, -5.68940929e-01, -8.33840007e-03,\n",
       "        -1.21546898e-01,  1.00000000e+00,  6.12323400e-17,\n",
       "         0.00000000e+00,  1.00000000e+00],\n",
       "       [ 3.75767711e-01, -5.13885761e-01, -3.50039086e-02,\n",
       "        -1.00865342e-01,  1.00000000e+00,  6.12323400e-17,\n",
       "         0.00000000e+00,  1.00000000e+00],\n",
       "       [ 4.19099910e-01, -4.92869474e-01, -3.23547294e-03,\n",
       "        -5.94338224e-02,  1.00000000e+00,  6.12323400e-17,\n",
       "         0.00000000e+00,  1.00000000e+00]])"
      ]
     },
     "execution_count": 28,
     "metadata": {},
     "output_type": "execute_result"
    }
   ],
   "source": [
    "train_data[0]"
   ]
  },
  {
   "cell_type": "code",
   "execution_count": 29,
   "metadata": {},
   "outputs": [],
   "source": [
    "y_train_lat, y_eval_lat, y_test_lat, y_scaler_lat = \\\n",
    "    scale_data(trainData[targets[0]].values.reshape(-1, 1), \n",
    "           evalData[targets[0]].values.reshape(-1, 1),\n",
    "           testData[targets[0]].values.reshape(-1, 1),\n",
    "           scaler = None)\n",
    "\n",
    "y_train_lon, y_eval_lon, y_test_lon, y_scaler_lon = \\\n",
    "    scale_data(trainData[targets[1]].values.reshape(-1, 1), \n",
    "           evalData[targets[1]].values.reshape(-1, 1),\n",
    "           testData[targets[1]].values.reshape(-1, 1),\n",
    "           scaler = None)"
   ]
  },
  {
   "cell_type": "code",
   "execution_count": 44,
   "metadata": {},
   "outputs": [],
   "source": [
    "y_train = combine_features([y_train_lat, y_train_lon], features=False)\n",
    "y_eval = combine_features([y_eval_lat, y_eval_lon], features=False)\n",
    "y_test = combine_features([y_test_lat, y_test_lon], features=False)"
   ]
  },
  {
   "cell_type": "code",
   "execution_count": 45,
   "metadata": {},
   "outputs": [
    {
     "data": {
      "text/plain": [
       "(356437, 2)"
      ]
     },
     "execution_count": 45,
     "metadata": {},
     "output_type": "execute_result"
    }
   ],
   "source": [
    "y_train.shape"
   ]
  },
  {
   "cell_type": "markdown",
   "metadata": {},
   "source": [
    "### RNN"
   ]
  },
  {
   "cell_type": "code",
   "execution_count": 31,
   "metadata": {},
   "outputs": [],
   "source": [
    "import torch\n",
    "from torch import nn\n",
    "from torch.utils.data import DataLoader, TensorDataset\n",
    "from torchvision import datasets\n",
    "from torchvision.transforms import ToTensor\n",
    "from torch.autograd import Variable"
   ]
  },
  {
   "cell_type": "code",
   "execution_count": 106,
   "metadata": {},
   "outputs": [],
   "source": [
    "class MV_LSTM(torch.nn.Module):\n",
    "    def __init__(self,n_features,seq_length, batch_size, n_outputs=2):\n",
    "        super(MV_LSTM, self).__init__()\n",
    "        self.n_features = n_features\n",
    "        self.seq_len = seq_length\n",
    "        self.n_hidden = 100 # number of hidden states\n",
    "        self.n_layers = 2 # number of LSTM layers (stacked)\n",
    "        self.batch_size = batch_size\n",
    "        self.n_outputs = n_outputs\n",
    "        self.l_lstm = torch.nn.LSTM(input_size = n_features, \n",
    "                                 hidden_size = self.n_hidden,\n",
    "                                 num_layers = self.n_layers, \n",
    "                                 batch_first = True,\n",
    "                                 bidirectional = True,\n",
    "                                 dropout = 0.1)\n",
    "        # according to pytorch docs LSTM output is \n",
    "        # (batch_size,seq_len, num_directions * hidden_size)\n",
    "        # when considering batch_first = True\n",
    "        self.l_linear = torch.nn.Linear(self.n_outputs*self.n_hidden*self.seq_len, self.n_outputs)\n",
    "        \n",
    "    \n",
    "    def init_hidden(self, batch_size):\n",
    "        # even with batch_first = True this remains same as docs\n",
    "        w_h = torch.empty(self.n_outputs*self.n_layers,batch_size,self.n_hidden)\n",
    "        w_c = torch.empty(self.n_outputs*self.n_layers,batch_size,self.n_hidden)\n",
    "        hidden_state = torch.nn.init.xavier_uniform(w_h).requires_grad_().to(device)\n",
    "        cell_state = torch.nn.init.xavier_uniform(w_c).requires_grad_().to(device)\n",
    "        self.hidden = (hidden_state, cell_state)\n",
    "    \n",
    "    \n",
    "    def forward(self, x):        \n",
    "        batch_size, _, _ = x.size()\n",
    "        \n",
    "        lstm_out, self.hidden = self.l_lstm(x, self.hidden)\n",
    "        # lstm_out(with batch_first = True) is \n",
    "        # (batch_size,seq_len,num_directions * hidden_size)\n",
    "        # for following linear layer we want to keep batch_size dimension and merge rest       \n",
    "        # .contiguous() -> solves tensor compatibility error\n",
    "        x = lstm_out.contiguous().view(batch_size,-1).to(x.device)\n",
    "        return self.l_linear(x)\n",
    "\n",
    "def train(dataloader, model, loss_fn, optimizer):\n",
    "    size = len(dataloader.dataset)\n",
    "    model.train()\n",
    "    total_loss = 0\n",
    "    for batch, (X, y) in enumerate(dataloader):\n",
    "        X, y = X.to(device), y.to(device)\n",
    "        model.init_hidden(model.batch_size)\n",
    "        # Compute prediction error\n",
    "        pred = model(X)\n",
    "        loss = loss_fn(pred, y)\n",
    "\n",
    "        # Backpropagation\n",
    "        optimizer.zero_grad()\n",
    "        loss.backward()\n",
    "        optimizer.step()\n",
    "\n",
    "        if batch % 1000 == 0:\n",
    "            loss, current = loss.item(), batch * len(X)\n",
    "            print(f\"loss: {loss:>7f}  [{current:>5d}/{size:>5d}]\")\n",
    "\n",
    "        total_loss += loss\n",
    "\n",
    "    avg_loss = total_loss / size\n",
    "    print(f\"Train Loss: {avg_loss}\")\n",
    "\n",
    "def test(dataloader, model, loss_fn):\n",
    "    size = len(dataloader.dataset)\n",
    "    model.eval()\n",
    "    test_loss = 0\n",
    "    with torch.no_grad():\n",
    "        for X, y in dataloader:\n",
    "            X, y = X.to(device), y.to(device)\n",
    "            pred = model(X)\n",
    "            test_loss += loss_fn(pred, y).item()\n",
    "            \n",
    "    test_loss /= size\n",
    "    print(f\"Test Loss: {test_loss}\")\n",
    "    return test_loss\n",
    "\n",
    "def array_padding(input_data, batch_size = 64):\n",
    "    if input_data.shape[0] % batch_size == 0:\n",
    "        return input_data\n",
    "    right_size = batch_size + batch_size*(len(input_data) // batch_size)\n",
    "    shape = list(input_data.shape)\n",
    "    shape[0] = right_size - input_data.shape[0]\n",
    "    empty_array = np.zeros(tuple(shape))\n",
    "    return np.vstack((input_data, empty_array))\n"
   ]
  },
  {
   "cell_type": "code",
   "execution_count": 107,
   "metadata": {},
   "outputs": [
    {
     "name": "stdout",
     "output_type": "stream",
     "text": [
      "Using cuda device\n"
     ]
    }
   ],
   "source": [
    "n_features = train_data.shape[2] # this is number of parallel inputs\n",
    "batch_size = 2**6\n",
    "\n",
    "# Get cpu or gpu device for training.\n",
    "device = \"cuda\" if torch.cuda.is_available() else \"cpu\"\n",
    "print(f\"Using {device} device\")"
   ]
  },
  {
   "cell_type": "markdown",
   "metadata": {},
   "source": [
    "### Latitude NN"
   ]
  },
  {
   "cell_type": "code",
   "execution_count": 108,
   "metadata": {},
   "outputs": [
    {
     "name": "stdout",
     "output_type": "stream",
     "text": [
      "Shape of X [N, C, H, W]: torch.Size([64, 32, 8])\n",
      "Shape of y: torch.Size([64, 2]) torch.float32\n",
      "Epoch 1\n",
      "-------------------------------\n",
      "loss: 0.235694  [    0/356437]\n",
      "loss: 0.219714  [64000/356437]\n",
      "loss: 0.130095  [128000/356437]\n",
      "loss: 0.073912  [192000/356437]\n",
      "loss: 0.188900  [256000/356437]\n",
      "loss: 0.113653  [320000/356437]\n",
      "Train Loss: 0.0028256855439394712\n",
      "Test Loss: 0.0025346859510357272\n",
      "Epoch 2\n",
      "-------------------------------\n",
      "loss: 0.201564  [    0/356437]\n",
      "loss: 0.201407  [64000/356437]\n",
      "loss: 0.182122  [128000/356437]\n",
      "loss: 0.165800  [192000/356437]\n",
      "loss: 0.170898  [256000/356437]\n",
      "loss: 0.194750  [320000/356437]\n",
      "Train Loss: 0.002696671523153782\n",
      "Test Loss: 0.0024898706677309356\n",
      "Epoch 3\n",
      "-------------------------------\n",
      "loss: 0.166541  [    0/356437]\n",
      "loss: 0.159782  [64000/356437]\n",
      "loss: 0.145010  [128000/356437]\n",
      "loss: 0.175738  [192000/356437]\n",
      "loss: 0.139187  [256000/356437]\n",
      "loss: 0.183688  [320000/356437]\n",
      "Train Loss: 0.0026871077716350555\n",
      "Test Loss: 0.0024399238391583263\n",
      "Epoch 4\n",
      "-------------------------------\n",
      "loss: 0.117113  [    0/356437]\n",
      "loss: 0.132453  [64000/356437]\n",
      "loss: 0.139077  [128000/356437]\n",
      "loss: 0.180880  [192000/356437]\n",
      "loss: 0.200013  [256000/356437]\n",
      "loss: 0.122427  [320000/356437]\n",
      "Train Loss: 0.0026826185639947653\n",
      "Test Loss: 0.0024525387573593\n",
      "Epoch 5\n",
      "-------------------------------\n",
      "loss: 0.346689  [    0/356437]\n",
      "loss: 0.227029  [64000/356437]\n",
      "loss: 0.135035  [128000/356437]\n",
      "loss: 0.156720  [192000/356437]\n",
      "loss: 0.138959  [256000/356437]\n",
      "loss: 0.217453  [320000/356437]\n",
      "Train Loss: 0.0026789114344865084\n",
      "Test Loss: 0.0024297839114032047\n",
      "Epoch 6\n",
      "-------------------------------\n",
      "loss: 0.100478  [    0/356437]\n",
      "loss: 0.252318  [64000/356437]\n",
      "loss: 0.103373  [128000/356437]\n",
      "loss: 0.129748  [192000/356437]\n",
      "loss: 0.058662  [256000/356437]\n",
      "loss: 0.157188  [320000/356437]\n",
      "Train Loss: 0.002677873009815812\n",
      "Test Loss: 0.002444840582352656\n",
      "Done!\n"
     ]
    }
   ],
   "source": [
    "train_dataloader = DataLoader(TensorDataset(torch.Tensor(train_data), \n",
    "                               torch.Tensor(y_train)), \n",
    "                              batch_size=batch_size,\n",
    "                              drop_last=True, \n",
    "                              shuffle=True)\n",
    "eval_dataloader = DataLoader(TensorDataset(torch.Tensor(eval_data), \n",
    "                               torch.Tensor(y_eval)), \n",
    "                              batch_size=batch_size,\n",
    "                              drop_last=True, \n",
    "                              shuffle=True)\n",
    "\n",
    "for X, y in train_dataloader:\n",
    "    print(f\"Shape of X [N, C, H, W]: {X.shape}\")\n",
    "    print(f\"Shape of y: {y.shape} {y.dtype}\")\n",
    "    break\n",
    "\n",
    "model = MV_LSTM(n_features,n_timesteps, batch_size).to(device)\n",
    "loss_fn = torch.nn.MSELoss(reduction=\"sum\") # reduction='sum' created huge loss value\n",
    "optimizer = torch.optim.Adam(model.parameters(), lr=1e-3, weight_decay=1e-4)\n",
    "\n",
    "epochs = 5\n",
    "best_loss = np.inf\n",
    "stop_rounds = 2\n",
    "current_rounds = 0\n",
    "for t in range(epochs):\n",
    "    print(f\"Epoch {t+1}\\n-------------------------------\")\n",
    "    train(train_dataloader, model, loss_fn, optimizer)\n",
    "    loss_ = test(eval_dataloader, model, loss_fn)\n",
    "    if loss_ > best_loss:\n",
    "        current_rounds += 1\n",
    "        if current_rounds >= stop_rounds:\n",
    "            break\n",
    "    else:\n",
    "        best_loss = loss_\n",
    "print(\"Done!\")\n",
    "\n",
    "\n",
    "torch.save(model.state_dict(), \"../models/rnn/rnn_2d.pth\")"
   ]
  },
  {
   "cell_type": "code",
   "execution_count": 109,
   "metadata": {},
   "outputs": [],
   "source": [
    "test_dataloader = DataLoader(TensorDataset(\n",
    "                             torch.Tensor(array_padding(test_data, batch_size = batch_size)), \n",
    "                             torch.Tensor(array_padding(y_test_lat, batch_size = batch_size))), \n",
    "                             batch_size=batch_size)\n",
    "\n",
    "predictions = []\n",
    "for X, y in test_dataloader:\n",
    "    pred = model(X.to(device)).cpu().detach().numpy()\n",
    "    predictions.extend(pred)\n",
    "\n",
    "predictions_lat = np.array([p[0] for p in predictions[:test_data.shape[0]]]).reshape(-1, 1)\n",
    "predictions_lon = np.array([p[1] for p in predictions[:test_data.shape[0]]]).reshape(-1, 1)\n",
    "\n",
    "testData['lat_prediction_rnn'] = predictions_lat\n",
    "testData['lon_prediction_rnn'] = predictions_lon"
   ]
  },
  {
   "cell_type": "code",
   "execution_count": 305,
   "metadata": {},
   "outputs": [],
   "source": [
    "# testData['lat_prediction_rnn'] = testData['lat_prediction_rnn'] - (testData['lat_prediction_rnn'].mean())"
   ]
  },
  {
   "cell_type": "code",
   "execution_count": 110,
   "metadata": {},
   "outputs": [
    {
     "data": {
      "image/png": "[encoded data removed]",
      "text/plain": [
       "<Figure size 864x648 with 1 Axes>"
      ]
     },
     "metadata": {},
     "output_type": "display_data"
    }
   ],
   "source": [
    "plt.figure(figsize=(12, 9))  \n",
    "ax = plt.subplot(111)  \n",
    "ax.spines[\"top\"].set_visible(False)  \n",
    "ax.spines[\"right\"].set_visible(False)  \n",
    "ax.get_xaxis().tick_bottom()  \n",
    "ax.get_yaxis().tick_left()  \n",
    "\n",
    "plt.xlabel(\"delta, degree\")  \n",
    "plt.ylabel(\"Count\")  \n",
    "\n",
    "plt.hist(testData['lat_prediction_rnn'], \n",
    "         bins=100, label = 'RNN Latitude Predicted', alpha=0.1, density=True)\n",
    "\n",
    "plt.hist(testData[targets[0]], \n",
    "         bins=100, label = 'True Latitude', alpha=0.2, density=True)\n",
    "\n",
    "plt.title('Distribution of target latitude across different datasets')\n",
    "# plt.xlim([-0.9, 0.9])\n",
    "plt.legend()\n",
    "plt.show()"
   ]
  },
  {
   "cell_type": "code",
   "execution_count": 111,
   "metadata": {},
   "outputs": [
    {
     "data": {
      "image/png": "[encoded data removed]",
      "text/plain": [
       "<Figure size 864x648 with 1 Axes>"
      ]
     },
     "metadata": {},
     "output_type": "display_data"
    }
   ],
   "source": [
    "plt.figure(figsize=(12, 9))  \n",
    "ax = plt.subplot(111)  \n",
    "ax.spines[\"top\"].set_visible(False)  \n",
    "ax.spines[\"right\"].set_visible(False)  \n",
    "ax.get_xaxis().tick_bottom()  \n",
    "ax.get_yaxis().tick_left()  \n",
    "\n",
    "plt.xlabel(\"delta, degree\")  \n",
    "plt.ylabel(\"Count\")  \n",
    "\n",
    "plt.hist(testData['lon_prediction_rnn'], \n",
    "         bins=100, label = 'RNN Longitude Predicted', alpha=0.1, density=True)\n",
    "\n",
    "plt.hist(testData[targets[1]], \n",
    "         bins=100, label = 'True Longitude', alpha=0.2, density=True)\n",
    "\n",
    "plt.title('Distribution of target longitude across different datasets')\n",
    "# plt.xlim([-0.9, 0.9])\n",
    "plt.legend()\n",
    "plt.show()"
   ]
  },
  {
   "cell_type": "code",
   "execution_count": 112,
   "metadata": {},
   "outputs": [],
   "source": [
    "preds = testData[['filename', 'trip_number', 'latitude_start', 'latitude_end',\n",
    "                  'longitude_start', 'longitude_end', \n",
    "                  'lat_prediction_rnn', 'lon_prediction_rnn',\n",
    "                  'latitude_change', 'longitude_change']].copy()"
   ]
  },
  {
   "cell_type": "code",
   "execution_count": 113,
   "metadata": {},
   "outputs": [],
   "source": [
    "preds['latitude_2d_rnn_predicted'] = preds['latitude_end'] + preds['lat_prediction_rnn']\n",
    "preds['latitude_true'] = preds['latitude_end'] + preds['latitude_change']\n",
    "\n",
    "\n",
    "preds['longitude_2d_rnn_predicted'] = preds['longitude_end'] + preds['lon_prediction_rnn']\n",
    "preds['longitude_true'] = preds['longitude_end'] + preds['longitude_change']"
   ]
  },
  {
   "cell_type": "code",
   "execution_count": 114,
   "metadata": {},
   "outputs": [],
   "source": [
    "preds[['filename', 'trip_number', 'latitude_2d_rnn_predicted', 'longitude_2d_rnn_predicted']].to_csv(r'../predictions/2d_rnn_predictions.csv', index=False)"
   ]
  }
 ],
 "metadata": {
  "interpreter": {
   "hash": "71342f419acc3ba6ae382518c4ba2a9e6f9bd8751a76a463bc8e77674675b221"
  },
  "kernelspec": {
   "display_name": "Python 3.9.12 ('pytorch')",
   "language": "python",
   "name": "python3"
  },
  "language_info": {
   "codemirror_mode": {
    "name": "ipython",
    "version": 3
   },
   "file_extension": ".py",
   "mimetype": "text/x-python",
   "name": "python",
   "nbconvert_exporter": "python",
   "pygments_lexer": "ipython3",
   "version": "3.9.12"
  },
  "orig_nbformat": 4
 },
 "nbformat": 4,
 "nbformat_minor": 2
}
